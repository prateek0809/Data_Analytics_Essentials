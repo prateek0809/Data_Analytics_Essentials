{
 "cells": [
  {
   "cell_type": "markdown",
   "id": "9ab10374-00c1-41e4-8739-6632564525a2",
   "metadata": {},
   "source": [
    "Question 1\n",
    "\n",
    "A college has deployed next-generation analytics. Which question would most likely be answered by next generation analytics that could not be answered by traditional analysis tools?\n",
    "\n",
    "Ans. Which class sections do students consider the most in the online environment without actually enrolling?"
   ]
  },
  {
   "cell_type": "markdown",
   "id": "1e6ace57-d8ef-4848-9e8f-2c0e3b0d0607",
   "metadata": {},
   "source": [
    "Question 2\n",
    "\n",
    "A college uses a learning management system (LMS) to host lecture materials and provide access to assignments and assessments. A teacher uses the LMS to check activities completed by students in a particular course. Which data analytics method is being used?\n",
    "\n",
    "Ans. descriptive"
   ]
  },
  {
   "cell_type": "markdown",
   "id": "c4a92de2-8455-4b55-9983-061dcc709bb1",
   "metadata": {},
   "source": [
    "Question 3\n",
    "\n",
    "A large online ordering company collects the sales history of its customers. Using this historical data, the online company sends customized sales advertisements to a specific group of customers. Which data analytics method is being used?\n",
    "\n",
    "Ans. prescriptive"
   ]
  },
  {
   "cell_type": "markdown",
   "id": "04355491-1589-4107-b828-2d40dfe74f5b",
   "metadata": {},
   "source": [
    "Question 4\n",
    "\n",
    "What is an example of descriptive data analysis?\n",
    "\n",
    "\n",
    "\n",
    "Ans. an hourly traffic report for a highway"
   ]
  },
  {
   "cell_type": "markdown",
   "id": "01915163-77fe-4355-a810-400574a28cd1",
   "metadata": {},
   "source": [
    "Question 5\n",
    "\n",
    "What is a benefit of analyzing data in motion rather than a static data set?\n",
    "\n",
    "Ans. Critical decisions can be made more quickly."
   ]
  },
  {
   "cell_type": "markdown",
   "id": "c4446323-bdd4-4d09-ba82-5ae5cee462fd",
   "metadata": {},
   "source": [
    "Question 6\n",
    "\n",
    "Which type of results do data analysts calculate from larger datasets to inform decision making?\n",
    "\n",
    "Ans. accurate\n"
   ]
  },
  {
   "cell_type": "markdown",
   "id": "3a3e19d0-662e-403c-822d-a614eadf4b2c",
   "metadata": {},
   "source": [
    "Question 7\n",
    "\n",
    "What is a characteristic of predictive data analysis?\n",
    "\n",
    "\n",
    "Ans. establishes a future trend line based on past data"
   ]
  },
  {
   "cell_type": "markdown",
   "id": "02530d5f-4aae-40c4-a111-4d7becf8a547",
   "metadata": {},
   "source": [
    "Question 8\n",
    "\n",
    "Match the step in the Data Analysis Lifecycle with the description.\n",
    "\n",
    "Categories:                                                                      Options:\n",
    "\n",
    "Presenting the Data           ------------>                Communicating insights derived from the analysis to decision makers\n",
    "\n",
    "Investigating the Data        ------------>                Determining if the data is valid, complete and relevant\n",
    "\n",
    "Getting the Data              ------------>                Locating the data and determining if there is enough data to complete the analysis\n",
    "\n",
    "Asking the Question           ------------>                Defining the problem to be solved or purpose of the analysis\n",
    "\n",
    "Preparing the Data            ------------>                Transforming the data into a format appropriate for analysis\n",
    "\n",
    "Analyzing the Data            ------------>                Identifying patterns and correlations contained in the data to produce conclusions\n"
   ]
  },
  {
   "cell_type": "markdown",
   "id": "cfb105fc-841d-4a4b-9087-218315d7ba87",
   "metadata": {},
   "source": [
    "Question 9\n",
    "\n",
    "What is the first step in any analytic project?\n",
    "\n",
    "Ans. defining the goal of the project"
   ]
  }
 ],
 "metadata": {
  "kernelspec": {
   "display_name": "Python 3 (ipykernel)",
   "language": "python",
   "name": "python3"
  },
  "language_info": {
   "codemirror_mode": {
    "name": "ipython",
    "version": 3
   },
   "file_extension": ".py",
   "mimetype": "text/x-python",
   "name": "python",
   "nbconvert_exporter": "python",
   "pygments_lexer": "ipython3",
   "version": "3.9.18"
  }
 },
 "nbformat": 4,
 "nbformat_minor": 5
}
