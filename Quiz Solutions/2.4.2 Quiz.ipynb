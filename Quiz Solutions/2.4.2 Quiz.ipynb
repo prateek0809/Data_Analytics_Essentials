{
 "cells": [
  {
   "cell_type": "markdown",
   "id": "7663800d-de35-4227-bc46-9904dc519108",
   "metadata": {},
   "source": [
    "Question 1\n",
    "\n",
    "What term describes the key characteristics that are observed or measured as part of an experiment or analysis?\n",
    "\n",
    "Ans. variable"
   ]
  },
  {
   "cell_type": "markdown",
   "id": "449a7918-8b57-44d8-9ef6-c03f4289aadb",
   "metadata": {},
   "source": [
    "Question 2\n",
    "Match the variable with the description.\n",
    "\n",
    "Categories:                                           VS             Options:\n",
    "\n",
    "A) continuous--------------------------------------->quantitative values with infinite range\n",
    "\n",
    "\n",
    "B) nominal------------------------------------------>qualitative values based on identity of the object\n",
    "\n",
    "\n",
    "c) ordinal------------------------------------------>qualitative values in order of ranking\n",
    "\n",
    "\n",
    "D) discrete----------------------------------------->quantitative and finite set of values"
   ]
  },
  {
   "cell_type": "markdown",
   "id": "ec942bfe-d271-4d6e-a5f2-3b39689d47a7",
   "metadata": {},
   "source": [
    "Question 3\n",
    "\n",
    "What category of variables includes nominal or ordinal variables?\n",
    "\n",
    "Ans. categorical"
   ]
  },
  {
   "cell_type": "markdown",
   "id": "8c37aea0-e7a4-443b-9a36-48ce74e267b6",
   "metadata": {},
   "source": [
    "Question 4\n",
    "\n",
    "Which statement is an accurate description of discrete variables?\n",
    "\n",
    "\n",
    "Ans. They are quantitative with a finite set of values."
   ]
  },
  {
   "cell_type": "markdown",
   "id": "40186a0f-43cb-4e47-8bc8-ffa0fed261d7",
   "metadata": {},
   "source": [
    "Question 5\n",
    "Match the variable with the type of value.\n",
    "\n",
    "Variable                    VS                        Type of value\n",
    "\n",
    "A) continuous-------------------------------->sales volume\n",
    "\n",
    "\n",
    "B) discrete---------------------------------->number of users\n",
    "\n",
    " \n",
    "C) nominal----------------------------------->eye color\n",
    "\n",
    "\n",
    "D) ordinal----------------------------------->student class rank"
   ]
  },
  {
   "cell_type": "markdown",
   "id": "3da46bf3-7b1b-4b89-838d-9225f3e91914",
   "metadata": {},
   "source": [
    "Question 6\n",
    "\n",
    "Which statement describes SQL?\n",
    "\n",
    "Ans. It is a powerful data management language that allows data analysts to interact with data stored in relational databases."
   ]
  },
  {
   "cell_type": "markdown",
   "id": "cb73c120-a9b4-4447-9d3b-a7120b495e1b",
   "metadata": {},
   "source": [
    "Question 7\n",
    "\n",
    "Which statement describes Tableau?\n",
    "\n",
    "Ans. It is a visual analytics platform for exploring, analyzing, and managing data."
   ]
  },
  {
   "cell_type": "markdown",
   "id": "2b03092d-6fbd-402a-9264-515ed4c05221",
   "metadata": {},
   "source": [
    "Question 8\n",
    "\n",
    "Which two statements describe the Kaggle web site? (Choose two.)\n",
    "\n",
    "Ans. It offers community machine learning competitions among data science enthusiasts.\n",
    "\n",
    "It is an online community for data scientists and machine learning enthusiasts to share ideas."
   ]
  },
  {
   "cell_type": "markdown",
   "id": "4833b708-3488-4b6b-9cd8-2d2473ffbabe",
   "metadata": {},
   "source": [
    "Question 9\n",
    "\n",
    "A data analyst is performing data cleaning on an Excel spreadsheet that contains collected data. Which Excel function would the analyst use to find integer data that is larger than expected?\n",
    "\n",
    "Ans. MAX"
   ]
  },
  {
   "cell_type": "markdown",
   "id": "6182658d-dd44-433d-9308-c761f02de55d",
   "metadata": {},
   "source": [
    "Question 10\n",
    "\n",
    "A data analyst is performing data cleaning on an Excel spreadsheet that contains collected data. The data records have been marked with mixed formatting. The analyst wants to remove all formatting and reformat data. Which operation should the analyst perform to remove current formatting?\n",
    "\n",
    "Ans. Highlight data range -> Home tab -> Clear -> Clear Formats"
   ]
  }
 ],
 "metadata": {
  "kernelspec": {
   "display_name": "Python 3 (ipykernel)",
   "language": "python",
   "name": "python3"
  },
  "language_info": {
   "codemirror_mode": {
    "name": "ipython",
    "version": 3
   },
   "file_extension": ".py",
   "mimetype": "text/x-python",
   "name": "python",
   "nbconvert_exporter": "python",
   "pygments_lexer": "ipython3",
   "version": "3.9.18"
  }
 },
 "nbformat": 4,
 "nbformat_minor": 5
}
